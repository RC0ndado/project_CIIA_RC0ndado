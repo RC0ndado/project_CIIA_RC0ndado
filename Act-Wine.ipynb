{
 "cells": [
  {
   "cell_type": "code",
   "execution_count": 8,
   "metadata": {},
   "outputs": [],
   "source": [
    "# Bibliotecas\n",
    "import pandas as pd\n",
    "import joblib\n",
    "from sklearn.model_selection import train_test_split\n",
    "from sklearn.tree import DecisionTreeClassifier"
   ]
  },
  {
   "cell_type": "code",
   "execution_count": 9,
   "metadata": {},
   "outputs": [
    {
     "name": "stdout",
     "output_type": "stream",
     "text": [
      "Train Performance:  1.0\n",
      "Predictions:  ['Bueno', 'Regular', 'Regular', 'Regular', 'Regular', 'Regular', 'Bueno', 'Regular', 'Regular', 'Regular']\n",
      "Real:  ['Bueno', 'Regular', 'Regular', 'Regular', 'Regular', 'Regular', 'Bueno', 'Regular', 'Regular', 'Regular']\n",
      "Test Performance:  0.834061135371179\n",
      "Predictions:  ['Regular', 'Regular', 'Regular', 'Regular', 'Bueno', 'Bueno', 'Regular', 'Regular', 'Regular', 'Regular']\n",
      "Real:  ['Regular', 'Regular', 'Regular', 'Regular', 'Regular', 'Bueno', 'Regular', 'Regular', 'Regular', 'Regular']\n"
     ]
    }
   ],
   "source": [
    "# Modelo\n",
    "df = pd.read_csv('WineQT.csv')\n",
    "df['quality']=df['quality'].replace([3,4,5,6,7,8],[\"Malo\", \"Malo\",\"Regular\", \"Regular\", \"Bueno\", \"Bueno\"])\n",
    "\n",
    "x=df.drop('quality', axis=1) # Variables de entrada\n",
    "y=df['quality'] # Variables de salida\n",
    "\n",
    "# Train test split\n",
    "x_train, x_test, y_train,  y_test = train_test_split(x,y,test_size=0.2,random_state=42)\n",
    "\n",
    "#Model generation\n",
    "dt = DecisionTreeClassifier(random_state=42)\n",
    "dt.fit(x_train, y_train)\n",
    "\n",
    "# Train performance\n",
    "print(\"Train Performance: \", dt.score(x_train, y_train))\n",
    "pred = dt.predict(x_train).tolist()\n",
    "print(\"Predictions: \", pred[:10])\n",
    "print(\"Real: \", y_train[:10].tolist())\n",
    "\n",
    "# Test performance\n",
    "print(\"Test Performance: \", dt.score(x_test, y_test))\n",
    "pred = dt.predict(x_test).tolist()\n",
    "print(\"Predictions: \", pred[:10])\n",
    "print(\"Real: \", y_test[:10].tolist())"
   ]
  },
  {
   "cell_type": "code",
   "execution_count": 10,
   "metadata": {},
   "outputs": [
    {
     "name": "stdout",
     "output_type": "stream",
     "text": [
      "1.0\n",
      "0.834061135371179\n",
      "['Regular']\n"
     ]
    }
   ],
   "source": [
    "# Train performance\n",
    "res_train=dt.score(x_train, y_train)\n",
    "print(res_train)\n",
    "\n",
    "# Test performance\n",
    "res_test=dt.score(x_test, y_test)\n",
    "print(res_test)\n",
    "\n",
    "joblib.dump(dt, 'dt1.joblib')\n",
    "\n",
    "x_test.iloc[[0]]\n",
    "print(dt.predict(x_test.iloc[[0]]))"
   ]
  },
  {
   "cell_type": "code",
   "execution_count": null,
   "metadata": {},
   "outputs": [],
   "source": []
  }
 ],
 "metadata": {
  "kernelspec": {
   "display_name": "base",
   "language": "python",
   "name": "python3"
  },
  "language_info": {
   "codemirror_mode": {
    "name": "ipython",
    "version": 3
   },
   "file_extension": ".py",
   "mimetype": "text/x-python",
   "name": "python",
   "nbconvert_exporter": "python",
   "pygments_lexer": "ipython3",
   "version": "3.11.3"
  },
  "orig_nbformat": 4
 },
 "nbformat": 4,
 "nbformat_minor": 2
}
